{
 "cells": [
  {
   "cell_type": "markdown",
   "metadata": {},
   "source": [
    "# Loading and Preparing Dataset including System Initializations"
   ]
  },
  {
   "cell_type": "code",
   "execution_count": 36,
   "metadata": {
    "collapsed": false,
    "scrolled": false
   },
   "outputs": [
    {
     "name": "stdout",
     "output_type": "stream",
     "text": [
      "The autoreload extension is already loaded. To reload it, use:\n",
      "  %reload_ext autoreload\n",
      "Total Training Sentences with categories: 1708\n",
      "Total Unique Sentences:  2000\n",
      "Total Validation Sentences with categories: 582\n",
      "Total Unique Sentences:  685\n",
      "Total Gold Test set Sentences with categories: 587\n",
      "Total Unique Sentences:  676\n"
     ]
    }
   ],
   "source": [
    "import tensorflow as tf\n",
    "import sys\n",
    "import w2v_utils  as w2v_utils\n",
    "import numpy as np\n",
    "import gensim.models\n",
    "import matplotlib.pyplot as plt\n",
    "import pandas as pd   \n",
    "from sklearn.manifold import TSNE\n",
    "from gensim.models.word2vec import Word2Vec\n",
    "from sklearn.preprocessing import scale\n",
    "import logging\n",
    "import random\n",
    "import simplejson as json\n",
    "\n",
    "setValidation = True   #to create a validation set or not\n",
    "scaleVectors  = False  #to scale word vectors or not\n",
    "skipSections  = False  #to skip sections of codes for fast executions\n",
    "\n",
    "logging.basicConfig(format='%(asctime)s : %(levelname)s : %(message)s',level=logging.INFO)\n",
    "\n",
    "# As usual, a bit of setup\n",
    "%matplotlib inline\n",
    "plt.rcParams['figure.figsize'] = (10.0, 8.0) # set default size of plots\n",
    "plt.rcParams['image.interpolation'] = 'nearest'\n",
    "plt.rcParams['image.cmap'] = 'gray'\n",
    "# for auto-reloading external modules\n",
    "# see http://stackoverflow.com/questions/1907993/autoreload-of-modules-in-ipython\n",
    "%load_ext autoreload\n",
    "%autoreload 2\n",
    "\n",
    "###Training Data###\n",
    "training_Input_File       = '/home/nouman/Python codes/ABSA_code/Data folder/Datasets/ABSA16_Restaurants_Train_SB1_v2.xml'\n",
    "training_output_File      = 'ABSA16_Restaurants_Train_SB1_v2.txt'\n",
    "training_Unique_Sentences = 'ABSA16_Restaurants_Train_SB1_v2_Unique.txt'\n",
    "w2v_utils.getTraining_setFile(\"Total Training Sentences with categories:\",training_Input_File, training_output_File)\n",
    "w2v_utils.getSentencesFile(training_Input_File, training_Unique_Sentences)\n",
    "\n",
    "###Validation Data###\n",
    "test_Input_File  = '/home/nouman/Python codes/ABSA_code/Data folder/Datasets/ABSA15_Restaurants_Test.xml' #test\n",
    "test_output_File = 'ABSA15_Restaurants_Test.txt'\n",
    "test_Unique_Sentences = 'ABSA15_Restaurants_Test_Unique.txt'\n",
    "w2v_utils.getTraining_setFile(\"Total Validation Sentences with categories:\",test_Input_File, test_output_File)\n",
    "w2v_utils.getSentencesFile(test_Input_File, test_Unique_Sentences)\n",
    "\n",
    "###Gold Standard Annotations###\n",
    "#gold_Input_File  = '/home/nouman/Python codes/ABSA_code/Data folder/Datasets/ABSA16_Restaurants_Train_SB1_v2.xml' #train\n",
    "gold_Input_File  = '/home/nouman/Python codes/ABSA_code/Data folder/Datasets/EN_REST_SB1_TEST.xml.gold' #test\n",
    "gold_output_File = 'EN_REST_SB1_TEST_gold.txt'\n",
    "gold_Unique_Sentences = 'EN_REST_SB1_TEST_gold_Unique.txt'\n",
    "w2v_utils.getTraining_setFile(\"Total Gold Test set Sentences with categories:\",gold_Input_File, gold_output_File)\n",
    "w2v_utils.getSentencesFile(gold_Input_File, gold_Unique_Sentences)"
   ]
  },
  {
   "cell_type": "markdown",
   "metadata": {},
   "source": [
    "# Loading or Training word2vec Model"
   ]
  },
  {
   "cell_type": "code",
   "execution_count": 37,
   "metadata": {
    "collapsed": false
   },
   "outputs": [
    {
     "name": "stderr",
     "output_type": "stream",
     "text": [
      "2016-09-27 15:32:56,436 : INFO : loading Word2Vec object from 400dm_by_5lac_yelp.model\n",
      "2016-09-27 15:32:56,890 : INFO : loading syn0 from 400dm_by_5lac_yelp.model.syn0.npy with mmap=None\n",
      "2016-09-27 15:32:56,935 : INFO : loading syn1 from 400dm_by_5lac_yelp.model.syn1.npy with mmap=None\n",
      "2016-09-27 15:32:57,101 : INFO : setting ignored attribute syn0norm to None\n",
      "2016-09-27 15:32:57,102 : INFO : setting ignored attribute cum_table to None\n"
     ]
    }
   ],
   "source": [
    "#model = Word2Vec.load('TRAIN_MODEL')\n",
    "model = Word2Vec.load('400dm_by_5lac_yelp.model')\n",
    "#print \"Loading GoogleNews-vectors-negative300.bin model\" \n",
    "#model = Word2Vec.load_word2vec_format('/home/nouman/Python codes/ABSA_code/GoogleNews-vectors-negative300.bin', binary=True) \n",
    "#print \"Model loaded...\""
   ]
  },
  {
   "cell_type": "code",
   "execution_count": 38,
   "metadata": {
    "collapsed": false
   },
   "outputs": [
    {
     "name": "stderr",
     "output_type": "stream",
     "text": [
      "2016-09-27 15:32:58,027 : INFO : precomputing L2-norms of word weight vectors\n"
     ]
    },
    {
     "data": {
      "text/plain": [
       "[('decent', 0.6036416292190552),\n",
       " ('great', 0.5459213852882385),\n",
       " ('tasty', 0.5145878791809082),\n",
       " ('awesome', 0.43889498710632324),\n",
       " ('solid', 0.42857787013053894),\n",
       " ('excellent', 0.41170811653137207),\n",
       " ('tastey', 0.40314656496047974),\n",
       " ('average', 0.39288848638534546),\n",
       " ('yummy', 0.38846299052238464),\n",
       " ('amazing', 0.384460985660553)]"
      ]
     },
     "execution_count": 38,
     "metadata": {},
     "output_type": "execute_result"
    }
   ],
   "source": [
    "model.most_similar(\"good\")"
   ]
  },
  {
   "cell_type": "code",
   "execution_count": 39,
   "metadata": {
    "collapsed": false
   },
   "outputs": [
    {
     "data": {
      "text/plain": [
       "[('terrible', 0.5134795904159546),\n",
       " ('horrible', 0.474630206823349),\n",
       " ('awful', 0.4508820176124573),\n",
       " ('poor', 0.43003830313682556),\n",
       " ('soured', 0.399912565946579),\n",
       " ('horrific', 0.3849557042121887),\n",
       " ('good', 0.382893830537796),\n",
       " ('tainted', 0.3814338147640228),\n",
       " ('negative', 0.37759342789649963),\n",
       " ('lousy', 0.3643159866333008)]"
      ]
     },
     "execution_count": 39,
     "metadata": {},
     "output_type": "execute_result"
    }
   ],
   "source": [
    "model.most_similar(\"bad\")"
   ]
  },
  {
   "cell_type": "markdown",
   "metadata": {},
   "source": [
    "# Reading Test and Training Datasets from Files"
   ]
  },
  {
   "cell_type": "code",
   "execution_count": 40,
   "metadata": {
    "collapsed": false,
    "scrolled": true
   },
   "outputs": [],
   "source": [
    "training_output_File = 'ABSA16_Restaurants_Train_SB1_v2.txt'\n",
    "test_output_File = 'ABSA15_Restaurants_Test.txt'\n",
    "gold_output_File = 'EN_REST_SB1_TEST_gold.txt'\n",
    "finalTrain = 'file'\n",
    "train = pd.read_csv(training_output_File, header=None, delimiter=\"\\t\", quoting=3, names=['review', 'category'])\n",
    "test  = pd.read_csv(gold_output_File, header=None, delimiter=\"\\t\", quoting=3, names=['review', 'category'])\n",
    "train = w2v_utils.multiHotVectors(train, 'test_labels')\n",
    "test  = w2v_utils.multiHotVectors(test, 'train_labels')\n",
    "\n",
    "#filenames = [training_output_File, test_output_File]\n",
    "#with open(training_output_File, 'w') as outfile:\n",
    "#    for fname in filenames:\n",
    "#        with open(fname) as infile:\n",
    "#            for line in infile:\n",
    "#                outfile.write(line)"
   ]
  },
  {
   "cell_type": "markdown",
   "metadata": {},
   "source": [
    "# Cleaning Sentences"
   ]
  },
  {
   "cell_type": "code",
   "execution_count": 42,
   "metadata": {
    "collapsed": false
   },
   "outputs": [
    {
     "name": "stdout",
     "output_type": "stream",
     "text": [
      "Hot encoded vectors shape:  (1708, 12)\n",
      "Hot encoded vectors shape:  (587, 12)\n",
      "They never brought us complimentary noodles, ignored repeated requests for sugar, and threw our dishes on the table. [0 0 0 0 0 0 0 0 0 0 0 1]\n",
      "Not the biggest portions but adequate. [0 0 0 0 0 0 1 0 0 0 0 0]\n",
      "Cleaning sentences from training set...\n",
      "Training Set: 1452 Validation Set: 256 Gold Set: 587\n"
     ]
    }
   ],
   "source": [
    "x_train = train[\"review\"]\n",
    "Y_train = np.array(w2v_utils.multiCategoryVectors(train, classes=12)).astype(int) #train[\"category\"]\n",
    "x_test  = test[\"review\"]\n",
    "Y_test  = np.array(w2v_utils.multiCategoryVectors(test, classes=12)).astype(int)  #test[\"category\"]\n",
    "\n",
    "print train[\"review\"][2],  Y_train[2]\n",
    "print  test[\"review\"][2],  Y_test[2]\n",
    "\n",
    "\n",
    "# preparing  data\n",
    "x_train,Y_train,x_val,Y_val =  w2v_utils.splitDataset(x_train, Y_train, split=0.85) \n",
    "\n",
    "####################################### CLEANING REVIEWS ###############################################################\n",
    "print \"Cleaning sentences from training set...\"\n",
    "x_train = w2v_utils.clean(x_train, True)\n",
    "x_val   = w2v_utils.clean(x_val,True)\n",
    "x_test  = w2v_utils.clean(x_test,True)\n",
    "print \"Training Set:\",len(x_train), \"Validation Set:\",len(x_val), \"Gold Set:\",len(x_test)#,\"Test Set:\",len(x_test) \n",
    "\n",
    "#x_train[0],Y_train[0]"
   ]
  },
  {
   "cell_type": "markdown",
   "metadata": {},
   "source": [
    "# Vectorization of Sentences"
   ]
  },
  {
   "cell_type": "code",
   "execution_count": 43,
   "metadata": {
    "collapsed": false
   },
   "outputs": [
    {
     "name": "stdout",
     "output_type": "stream",
     "text": [
      "Process of word to vector conversion initiated!\n",
      "Empty Sentence\n",
      "Empty Sentence\n",
      "Training set Sentences word vector dimensions: \n",
      "(1452, 400)\n",
      "Validation set Sentences word vector dimensions: \n",
      "(256, 400)\n",
      "Gold Sentences word vector dimensions: \n",
      "(587, 400)\n"
     ]
    }
   ],
   "source": [
    "######## getting sentence vectors\n",
    "print \"Process of word to vector conversion initiated!\"\n",
    "\n",
    "#Build word vector for training set by using the average value of all word vectors in the tweet, then scale\n",
    "def buildWordVector(text, size, debug = False):\n",
    "    sentWords = len(text)  \n",
    "    #print text, \"Sentence Words:\",sentWords\n",
    "    if (sentWords == 0):\n",
    "        print \"Empty Sentence\" \n",
    "        return np.zeros(size).reshape((1, size))\n",
    "\n",
    "    count = 0.\n",
    "    vecSum    = np.zeros(size).reshape((1, size))\n",
    "    vecMin    = np.zeros(size).reshape((1, size))\n",
    "    avgvecSum = np.zeros(size).reshape((1, size))\n",
    "    avgvecMin = np.zeros(size).reshape((1, size))\n",
    "    NAV_L1    = np.zeros(size).reshape((1, size))\n",
    "    NAV_L2    = np.zeros(size).reshape((1, size))\n",
    "    L1_SOM    = np.zeros(size).reshape((1, size))\n",
    "    L2_SOM    = np.zeros(size).reshape((1, size))\n",
    "    \n",
    "    #Loop started!!\n",
    "    for word in text:\n",
    "        try:\n",
    "            wordVector = model[word].reshape((1, size))\n",
    "            #vecSum = vecSum + wordVector\n",
    "            if count != 0:\n",
    "                vecSum =  vecSum+wordVector\n",
    "                vecMin =  vecMin+wordVector\n",
    "            else:\n",
    "                vecSum =  wordVector\n",
    "                vecMin =  wordVector\n",
    "                \n",
    "            count  = count+1.\n",
    "            \n",
    "        except KeyError:\n",
    "            if debug:\n",
    "                print \"not found! \",  word\n",
    "                count += 1.\n",
    "            continue\n",
    "    #Loop ends!!\n",
    "    \n",
    "    if count != 0:\n",
    "        ###### Sum and Subract ######\n",
    "        vecSum  = vecSum/1\n",
    "        vecMin  = vecMin/1\n",
    "        avgvecSum = vecSum #SOW\n",
    "        avgvecMin = vecMin #DOW\n",
    "        ##concatenating both sum and subtraction of word vectors\n",
    "        con_vecSum_vecMin = np.hstack((vecSum,vecMin)) #CONC-Vec\n",
    "        \n",
    "        \n",
    "        ###### Average Sum and Subract ######      \n",
    "        avgvecSum = avgvecSum/count #Avg-SUM\n",
    "        avgvecMin = avgvecMin/count #Avg-SUB\n",
    "        \n",
    "        ###### Normalized Average Sum and Subract ######        \n",
    "        NAV_L1 = avgvecSum/np.linalg.norm(avgvecSum,ord=1)    #L1-NAV (Sum)\n",
    "        NAV_L2 = avgvecSum/np.linalg.norm(avgvecSum, axis=1)  #L2-NAV (Sum)\n",
    "        \n",
    "        NAV_L1_Sub = avgvecMin/np.linalg.norm(avgvecMin,ord=1)    #L1-NAV (Sub)\n",
    "        NAV_L2_Sub = avgvecMin/np.linalg.norm(avgvecMin, axis=1)  #L2-NAV (Sub)\n",
    "        \n",
    "        ############ Normalized Word Vectors #############\n",
    "        ###### L1-SOM ######\n",
    "        L1_SOM = vecSum/np.linalg.norm(vecSum,ord=1)   #L1-NV (Sum)\n",
    "        L2_SOM = vecSum/np.linalg.norm(vecSum, axis=1) #L2-NV (Sum)\n",
    "        \n",
    "        L1_SOM_Sub = vecMin/np.linalg.norm(vecSum,ord=1)   #L1-NV (Sub)\n",
    "        L2_SOM_Sub = vecMin/np.linalg.norm(vecSum, axis=1) #L2-NV (Sub)\n",
    "\n",
    "    return vecSum\n",
    "\n",
    "######## Converting training, validation and test sentences into vectors\n",
    "x_train = np.concatenate([buildWordVector(sentence, model.layer1_size, debug = False) for sentence in x_train])\n",
    "if(scaleVectors):\n",
    "    x_train = scale(x_train)\n",
    "print \"Training set Sentences word vector dimensions: \\n\",x_train.shape\n",
    "\n",
    "if (setValidation):\n",
    "    x_val = np.concatenate([buildWordVector(sentence, model.layer1_size, debug = False) for sentence in x_val]) \n",
    "    if(scaleVectors):\n",
    "        x_val = scale(x_val)\n",
    "    print \"Validation set Sentences word vector dimensions: \\n\",x_val.shape\n",
    "    \n",
    "x_test = np.concatenate([buildWordVector(sentence, model.layer1_size, debug = False) for sentence in x_test])\n",
    "if(scaleVectors):\n",
    "    x_test = scale(x_test)\n",
    "print \"Gold Sentences word vector dimensions: \\n\",x_test.shape"
   ]
  },
  {
   "cell_type": "markdown",
   "metadata": {},
   "source": [
    "# Reducing Dimensions of Sentences for plotting using TSnE"
   ]
  },
  {
   "cell_type": "code",
   "execution_count": 44,
   "metadata": {
    "collapsed": false
   },
   "outputs": [],
   "source": [
    "if skipSections:\n",
    "    print \"TSNE graphical representation of vectors loading...\"\n",
    "    #Plot Word Vectors in 2-dimensional space\n",
    "    ts = TSNE(2)\n",
    "    reduced_trained_vectors = ts.fit_transform(x_train)\n",
    "    print \"Training Sentences REDUCED word vector dimensions: \\n\",reduced_trained_vectors.shape\n",
    "\n",
    "    if (setValidation):\n",
    "        reduced_validation_vectors = ts.fit_transform(x_val)\n",
    "        print \"Validation Sentences REDUCED word vector dimensions: \\n\",reduced_validation_vectors.shape\n",
    "\n",
    "    reduced_gold_vectors = ts.fit_transform(x_test)\n",
    "    print \"Gold Sentences REDUCED word vector dimensions: \\n\",reduced_gold_vectors.shape"
   ]
  },
  {
   "cell_type": "markdown",
   "metadata": {},
   "source": [
    "# Plot Training set Sentence Vectors"
   ]
  },
  {
   "cell_type": "code",
   "execution_count": 46,
   "metadata": {
    "collapsed": false
   },
   "outputs": [],
   "source": [
    "if skipSections:\n",
    "    #color points by word group to see if Word2Vec can separate them\n",
    "    for i in range(len(reduced_trained_vectors)):\n",
    "        if i < len(x_train):\n",
    "            color = 'r'\n",
    "        plt.plot(reduced_trained_vectors[i,0], reduced_trained_vectors[i,1], marker='o', color=color, markersize=6)"
   ]
  },
  {
   "cell_type": "markdown",
   "metadata": {},
   "source": [
    "# Plot Validation set Sentence Vectors"
   ]
  },
  {
   "cell_type": "code",
   "execution_count": 47,
   "metadata": {
    "collapsed": false
   },
   "outputs": [],
   "source": [
    "if skipSections:\n",
    "    if (setValidation):\n",
    "        #color points by word group to see if Word2Vec can separate them\n",
    "        for i in range(len(reduced_validation_vectors)):\n",
    "            if i < len(x_val):\n",
    "                color = 'b'\n",
    "            plt.plot(reduced_validation_vectors[i,0], reduced_validation_vectors[i,1], marker='o', color=color, markersize=6)"
   ]
  },
  {
   "cell_type": "markdown",
   "metadata": {},
   "source": [
    "# Plot Test set Sentence Vectors"
   ]
  },
  {
   "cell_type": "code",
   "execution_count": 48,
   "metadata": {
    "collapsed": false
   },
   "outputs": [],
   "source": [
    "if skipSections:    \n",
    "    #color points by word group to see if Word2Vec can separate them\n",
    "    for i in range(len(reduced_gold_vectors)):\n",
    "        if i < len(x_test):\n",
    "            color = 'k'\n",
    "        plt.plot(reduced_trained_vectors[i,0], reduced_gold_vectors[i,1], marker='o', color=color, markersize=6)"
   ]
  },
  {
   "cell_type": "markdown",
   "metadata": {},
   "source": [
    "# Reconfiguring Sentences and their labels"
   ]
  },
  {
   "cell_type": "code",
   "execution_count": 49,
   "metadata": {
    "collapsed": false,
    "scrolled": true
   },
   "outputs": [
    {
     "name": "stdout",
     "output_type": "stream",
     "text": [
      "Training Data:  (1452, 400) (1452, 12)\n",
      "Validation Data:  (256, 400) (256, 12)\n",
      "Gold Test Data:  (587, 400) (587, 12)\n"
     ]
    },
    {
     "data": {
      "text/plain": [
       "(array([0, 0, 0, 0, 0, 1, 0, 0, 0, 0, 0, 0]),\n",
       " array([0, 0, 0, 0, 0, 0, 0, 0, 0, 0, 0, 1]),\n",
       " array([0, 0, 0, 0, 0, 1, 0, 0, 0, 0, 0, 0]))"
      ]
     },
     "execution_count": 49,
     "metadata": {},
     "output_type": "execute_result"
    }
   ],
   "source": [
    "#Entities   = np.array(['FOOD', 'SERVICE', 'DRINKS', 'AMBIENCE', 'LOCATION', 'RESTAURANT'])\n",
    "#Attributes = np.array(['GENERAL', 'QUALITY', 'STYLE_OPTIONS', 'MISCELLANEOUS', 'PRICES'])\n",
    "\n",
    "############################### Preparing Data with One Hot #######################################\n",
    "X_train = x_train \n",
    "y_train = Y_train\n",
    "print \"Training Data: \",X_train.shape, y_train.shape\n",
    "\n",
    "###############################Preparing Validation Data\n",
    "X_val = x_val\n",
    "y_val = Y_val\n",
    "print \"Validation Data: \",X_val.shape, y_val.shape\n",
    "\n",
    "###############################Preparing Test Gold Data\n",
    "X_test = x_test\n",
    "y_test = Y_test\n",
    "print \"Gold Test Data: \", X_test.shape,y_test.shape\n",
    "\n",
    "y_train[0], y_val[0], y_test[0]"
   ]
  },
  {
   "cell_type": "markdown",
   "metadata": {},
   "source": [
    "# Measuring the Frequency of Training and Test example categories"
   ]
  },
  {
   "cell_type": "code",
   "execution_count": 58,
   "metadata": {
    "collapsed": false
   },
   "outputs": [
    {
     "name": "stdout",
     "output_type": "stream",
     "text": [
      "[226  20  46  30  82 681 128  28 421  97  80 419] [ 57   3  21  12  22 226  48  13 142  33  21 145]\n",
      "Total number of Training set Categories:  12\n",
      "Total number of Training set Categories:  11\n"
     ]
    },
    {
     "data": {
      "text/plain": [
       "<matplotlib.text.Text at 0x7f68a8b48750>"
      ]
     },
     "execution_count": 58,
     "metadata": {},
     "output_type": "execute_result"
    },
    {
     "data": {
      "image/png": "[encoded data removed]",
      "text/plain": [
       "<matplotlib.figure.Figure at 0x7f68a55b1c10>"
      ]
     },
     "metadata": {},
     "output_type": "display_data"
    }
   ],
   "source": [
    "#Frequencies of categories\n",
    "categories = np.array(['AMBIENCE#GENERAL','DRINKS#PRICES','DRINKS#QUALITY','DRINKS#STYLE_OPTIONS','FOOD#PRICES','FOOD#QUALITY','FOOD#STYLE_OPTIONS','LOCATION#GENERAL','RESTAURANT#GENERAL','RESTAURANT#MISCELLANEOUS','RESTAURANT#PRICES','SERVICE#GENERAL'])\n",
    "y_tr  = np.nonzero(y_train)[1]\n",
    "y_tr  = np.bincount(y_tr)\n",
    "\n",
    "y_va  = np.nonzero(y_val)[1]\n",
    "y_va  = np.bincount(y_va)\n",
    "\n",
    "y_te  = np.nonzero(y_test)[1]\n",
    "y_te  =  np.bincount(y_te)\n",
    "\n",
    "trainCat = y_tr+y_va\n",
    "testCat  = y_te\n",
    "print trainCat, testCat\n",
    "\n",
    "#Categories in training set\n",
    "trainFreq = pd.Series(trainCat, index=[trainCat])\n",
    "print \"Total number of Training set Categories: \", trainFreq.value_counts().size\n",
    "trainFreq = pd.Series(trainFreq.get_values(),  index=categories)\n",
    "#trainFreq.plot(kind='pie',title='Training Set Categories', figsize=(10, 10))\n",
    "gra_1 = trainFreq.plot(lw=2, kind='bar', stacked=True, figsize=(7, 4), color='r',fontsize=8)\n",
    "\n",
    "#Categories in test set\n",
    "testFreq = pd.Series(testCat, index=[testCat])\n",
    "print \"Total number of Training set Categories: \", testFreq.value_counts().size\n",
    "testFreq = pd.Series(testFreq.values,  index=categories)\n",
    "#testFreq.plot(kind='pie', title='Test Set Categories', figsize=(10, 10))\n",
    "gra_1 = testFreq.plot(lw=2, kind='bar', stacked=True,figsize=(7, 4), color='g', fontsize=8)\n",
    "\n",
    "gra_1.set_title('Histogram of Aspect Categories Distribution accross Restaurant Reviews\\n', fontsize=12)\n",
    "gra_1.set_ylabel(\"Number of Aspects in a Reviews\", fontsize=14)\n",
    "gra_1.set_xlabel(\"Number of Aspect categories in Reviews\", fontsize=14)"
   ]
  },
  {
   "cell_type": "markdown",
   "metadata": {},
   "source": [
    "# Multi-layer Nueral Network Architecture Design"
   ]
  },
  {
   "cell_type": "code",
   "execution_count": 51,
   "metadata": {
    "collapsed": false
   },
   "outputs": [
    {
     "name": "stdout",
     "output_type": "stream",
     "text": [
      "Network Initialized!\n"
     ]
    }
   ],
   "source": [
    "# Parameters\n",
    "training_epochs = 100\n",
    "batch_size = 80\n",
    "display_step = 5\n",
    "batch = tf.Variable(0, trainable=False)\n",
    "regualarization =  0.001\n",
    "\n",
    "# Network Parameters\n",
    "n_hidden_1 = 300 # 1st layer num features\n",
    "n_hidden_2 = 250 # 2nd layer num features\n",
    "\n",
    "n_input = X_test.shape[1] #model.layer1_size # Vector input (sentence shape: 30*10)\n",
    "n_classes = 12 # Sentence Category detection total classes (0-11 categories)\n",
    "\n",
    "#History storing variables for plots\n",
    "loss_history = []\n",
    "train_acc_history = []\n",
    "val_acc_history = []\n",
    "\n",
    "# tf Graph input\n",
    "x = tf.placeholder(\"float\", [None, n_input])\n",
    "y = tf.placeholder(\"float\", [None, n_classes])\n",
    "\n",
    "\n",
    "# Create model\n",
    "def multilayer_perceptron(_X, _weights, _biases):\n",
    "    layer_1 = tf.nn.relu(tf.add(tf.matmul(_X, _weights['h1']), _biases['b1'])) \n",
    "    layer_2 = tf.nn.relu(tf.add(tf.matmul(layer_1, _weights['h2']), _biases['b2'])) \n",
    "    return tf.matmul(layer_2, weights['out']) + biases['out']  \n",
    "\n",
    "\n",
    "# Store layers weight & bias\n",
    "reset = False #if false then weights will not be initialized randomly \n",
    "if  (reset == True):\n",
    "    w2v_utils.resetModel()#delete old weights\n",
    "    \n",
    "weights = {\n",
    "    'h1':  w2v_utils.weight_variable(n_input, n_hidden_1,    filename=\"params/weights_h1.txt\",  boolean=reset),\n",
    "    'h2':  w2v_utils.weight_variable(n_hidden_1, n_hidden_2, filename=\"params/weights_h2.txt\",  boolean=reset),\n",
    "    'out': w2v_utils.weight_variable(n_hidden_2, n_classes,  filename=\"params/weights_out.txt\", boolean=reset) \n",
    "}\n",
    "\n",
    "biases = {\n",
    "    'b1': w2v_utils.bias_variable([n_hidden_1], filename=\"params/biases_b1.txt\", boolean=reset),\n",
    "    'b2': w2v_utils.bias_variable([n_hidden_2], filename=\"params/biases_b2.txt\", boolean=reset),\n",
    "    'out': w2v_utils.bias_variable([n_classes], filename=\"params/biases_out.txt\", boolean=reset)\n",
    "}\n",
    "    \n",
    "# Define loss and optimizer\n",
    "#learning rate\n",
    "#Optimizer: set up a variable that's incremented once per batch and\n",
    "# controls the learning rate decay.\n",
    "learning_rate = tf.train.exponential_decay(\n",
    "  0.003,           # Base learning rate. #0.002\n",
    "  batch * batch_size,  # Current index into the dataset.\n",
    "  X_train.shape[0],    # Decay step.\n",
    "  0.96,                # Decay rate.\n",
    "  staircase=True)\n",
    "\n",
    "\n",
    "# Construct model\n",
    "pred = tf.nn.sigmoid(multilayer_perceptron(x, weights, biases))\n",
    "\n",
    "#L2 regularization\n",
    "l2_loss = tf.add_n([tf.nn.l2_loss(v) for v in tf.trainable_variables()])\n",
    "    \n",
    "#Softmax loss\n",
    "cost = tf.reduce_mean(tf.nn.softmax_cross_entropy_with_logits(pred, y)) \n",
    "\n",
    "#Total_cost\n",
    "cost = cost+ (regualarization*0.5*l2_loss)\n",
    "\n",
    "# Adam Optimizer\n",
    "optimizer = tf.train.AdamOptimizer(learning_rate=learning_rate).minimize(cost,global_step=batch)\n",
    "\n",
    "# Initializing the variables\n",
    "init = tf.initialize_all_variables()\n",
    "\n",
    "print \"Network Initialized!\""
   ]
  },
  {
   "cell_type": "markdown",
   "metadata": {},
   "source": [
    "# Prediction Results of Neural Network"
   ]
  },
  {
   "cell_type": "code",
   "execution_count": 52,
   "metadata": {
    "collapsed": false,
    "scrolled": false
   },
   "outputs": [],
   "source": [
    "from __future__ import division\n",
    "from sklearn.metrics import classification_report\n",
    "from sklearn.metrics import f1_score\n",
    "from sklearn.metrics import roc_auc_score\n",
    "from sklearn.metrics import accuracy_score\n",
    "\n",
    "truePred=0\n",
    "falsePred=0\n",
    "TP = 0\n",
    "FN = 0\n",
    "FP = 0\n",
    "TN = 0\n",
    "\n",
    "###http://stackoverflow.com/questions/33759623/tensorflow-how-to-restore-a-previously-saved-model-python\n",
    "# Launch the graph\n",
    "with tf.Session() as sess:\n",
    "    sess.run(init)\n",
    "    predictedlabel = np.zeros(y_test.shape) #test set\n",
    "\n",
    "    corrPred=0\n",
    "    # Evaluation of  model\n",
    "    correct_prediction = tf.equal(tf.argmax(pred, 1), tf.argmax(y, 1))\n",
    "    \n",
    "    # Calculate accuracy\n",
    "    accuracy = tf.reduce_mean(tf.cast(correct_prediction, \"float\"))\n",
    "    w2v_utils.do_eval(\"\",\"\",\"\",  sess, correct_prediction, accuracy, pred, X_test, y_test, x, y) #test set\n",
    "    \n",
    "    #Test\n",
    "    #'''\n",
    "    for i in range(len(X_test)): #X_test\n",
    "        if (i<=len(y_test)):    \n",
    "            check,predictedlabel[i], TP_, FP_, TN_, FN_ = w2v_utils.do_eval(test[\"review\"][i],i,\"Accuracy of Test set Results: \", sess, correct_prediction, \n",
    "                                                             accuracy, pred, X_test[i:i+1], y_test[i:i+1], \n",
    "                                                             x, y, True, 0.785, debug=False)\n",
    "            TP = TP+TP_\n",
    "            FP = FP+FP_\n",
    "            TN = TN+TN_\n",
    "            FN = FN+FN_\n",
    "\n",
    "            if check == True:\n",
    "                truePred = truePred+1\n",
    "            else:\n",
    "                falsePred = falsePred+1\n",
    "    #'''"
   ]
  },
  {
   "cell_type": "markdown",
   "metadata": {},
   "source": [
    "# Evluation matric to calculate the Prediction accuracy of model"
   ]
  },
  {
   "cell_type": "code",
   "execution_count": 54,
   "metadata": {
    "collapsed": false
   },
   "outputs": [
    {
     "name": "stdout",
     "output_type": "stream",
     "text": [
      "TP: 564 FP: 168\n",
      "FN: 179 TN: 0\n",
      "Precision: 0.770491803279\n",
      "Recall   : 0.759084791386\n",
      "F1 calculated by me!: 0.764745762712\n",
      "F1 calculated by AUEB: 0.764745762712\n",
      "F1 micro averaging Library function: 0.764745762712\n",
      "\n",
      "-------------------------Classification report:------------------------ \n",
      "\n",
      "                          precision    recall  f1-score   support\n",
      "\n",
      "        AMBIENCE#GENERAL       0.75      0.88      0.81        57\n",
      "           DRINKS#PRICES       0.33      0.67      0.44         3\n",
      "          DRINKS#QUALITY       0.50      0.33      0.40        21\n",
      "    DRINKS#STYLE_OPTIONS       0.00      0.00      0.00        12\n",
      "             FOOD#PRICES       0.60      0.68      0.64        22\n",
      "            FOOD#QUALITY       0.84      0.90      0.87       226\n",
      "      FOOD#STYLE_OPTIONS       0.61      0.52      0.56        48\n",
      "        LOCATION#GENERAL       0.00      0.00      0.00        13\n",
      "      RESTAURANT#GENERAL       0.77      0.78      0.77       142\n",
      "RESTAURANT#MISCELLANEOUS       0.50      0.33      0.40        33\n",
      "       RESTAURANT#PRICES       0.43      0.43      0.43        21\n",
      "         SERVICE#GENERAL       0.89      0.90      0.89       145\n",
      "\n",
      "          \n"
     ]
    }
   ],
   "source": [
    "total = np.nonzero(y_test)\n",
    "\n",
    "#print \"\\n<------------Correct and inccorrect predictions------------>\"\n",
    "print \"TP:\",TP,\"FP:\",FP\n",
    "print \"FN:\",FN,\"TN:\",TN\n",
    "\n",
    "precision =  TP/(TP+FP)\n",
    "recall    =  TP/(TP+FN)\n",
    "F1 = 2*(precision*recall)/(precision+recall)\n",
    "F1_ = (1 + 1 ** 2) * precision * recall / ((precision * 1 ** 2) + recall) if precision > 0 and recall > 0 else 0.\n",
    "print \"Precision:\",precision\n",
    "print \"Recall   :\",recall\n",
    "print \"F1 calculated by me!:\",F1\n",
    "print \"F1 calculated by AUEB:\",F1_\n",
    "print \"F1 micro averaging Library function:\",(f1_score(y_test, predictedlabel, average='micro')) #test\n",
    "\n",
    "y_test =  y_test.astype(int)\n",
    "predictedlabel = predictedlabel.astype(int)\n",
    "\n",
    "labels = np.array(['AMBIENCE#GENERAL','DRINKS#PRICES','DRINKS#QUALITY','DRINKS#STYLE_OPTIONS','FOOD#PRICES','FOOD#QUALITY','FOOD#STYLE_OPTIONS','LOCATION#GENERAL','RESTAURANT#GENERAL','RESTAURANT#MISCELLANEOUS','RESTAURANT#PRICES','SERVICE#GENERAL'])\n",
    "scores = (classification_report(y_test, predictedlabel, target_names=labels)) #test\n",
    "\n",
    "print \"\\n-------------------------Classification report:------------------------ \\n\\n\", scores[:870]"
   ]
  },
  {
   "cell_type": "code",
   "execution_count": null,
   "metadata": {
    "collapsed": true
   },
   "outputs": [],
   "source": []
  }
 ],
 "metadata": {
  "anaconda-cloud": {},
  "kernelspec": {
   "display_name": "Python [default]",
   "language": "python",
   "name": "python2"
  },
  "language_info": {
   "codemirror_mode": {
    "name": "ipython",
    "version": 2
   },
   "file_extension": ".py",
   "mimetype": "text/x-python",
   "name": "python",
   "nbconvert_exporter": "python",
   "pygments_lexer": "ipython2",
   "version": "2.7.12"
  }
 },
 "nbformat": 4,
 "nbformat_minor": 0
}
